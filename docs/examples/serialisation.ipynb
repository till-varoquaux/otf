{
 "cells": [
  {
   "cell_type": "code",
   "execution_count": 1,
   "id": "65afff43",
   "metadata": {},
   "outputs": [],
   "source": [
    "import otf"
   ]
  },
  {
   "cell_type": "code",
   "execution_count": 2,
   "id": "a7589ee6",
   "metadata": {},
   "outputs": [],
   "source": [
    "v = ([], [])"
   ]
  },
  {
   "cell_type": "markdown",
   "id": "c17876bb",
   "metadata": {},
   "source": [
    "Otf has its own serialization library."
   ]
  },
  {
   "cell_type": "code",
   "execution_count": 3,
   "id": "489983fb",
   "metadata": {},
   "outputs": [
    {
     "data": {
      "text/plain": [
       "'tuple([[], []])'"
      ]
     },
     "execution_count": 4,
     "metadata": {},
     "output_type": "execute_result"
    }
   ],
   "source": [
    "otf.dumps(v)"
   ]
  },
  {
   "cell_type": "markdown",
   "id": "a9f69e7d",
   "metadata": {},
   "source": [
    "We support shared references:"
   ]
  },
  {
   "cell_type": "code",
   "execution_count": 4,
   "id": "2669cd15",
   "metadata": {},
   "outputs": [
    {
     "data": {
      "text/plain": [
       "'[[], 2, ref(2)]'"
      ]
     },
     "execution_count": 5,
     "metadata": {},
     "output_type": "execute_result"
    }
   ],
   "source": [
    "v = []\n",
    "otf.dumps([v, 2, v])"
   ]
  },
  {
   "cell_type": "markdown",
   "id": "1c597650",
   "metadata": {},
   "source": [
    "## Shared references\n",
    "Out of the box, not many types are supported\n",
    "\n",
    "It's pretty easy to add support for new types. You need to write a \"reduction\" function that returns three values\n",
    "+ A callable *fn*\n",
    "+ A tuple *args* of values that are serialisable\n",
    "+ A dictionary *kwargs* where the keys are valid python identifiers and the values are serialisable"
   ]
  },
  {
   "cell_type": "code",
   "execution_count": 5,
   "id": "27c00817",
   "metadata": {},
   "outputs": [],
   "source": [
    "@otf.register\n",
    "def _reduce_complex(c: complex):\n",
    "    return complex, (), {\"real\": c.real, \"imag\": c.imag}"
   ]
  },
  {
   "cell_type": "code",
   "execution_count": 6,
   "id": "9fe1c0fc",
   "metadata": {},
   "outputs": [
    {
     "data": {
      "text/plain": [
       "'complex(real=5.0, imag=0.0)'"
      ]
     },
     "execution_count": 7,
     "metadata": {},
     "output_type": "execute_result"
    }
   ],
   "source": [
    "otf.dumps(complex(5))"
   ]
  },
  {
   "cell_type": "markdown",
   "id": "bef601c1",
   "metadata": {},
   "source": [
    "## Executable format"
   ]
  },
  {
   "cell_type": "markdown",
   "id": "0167a02c",
   "metadata": {},
   "source": [
    "For cases where people might want to edit serialized values we even offer a format that can be ran in python"
   ]
  },
  {
   "cell_type": "code",
   "execution_count": 7,
   "id": "a8a6a19c",
   "metadata": {},
   "outputs": [
    {
     "name": "stdout",
     "output_type": "stream",
     "text": [
      "_1 = complex(real=5.0, imag=6.0)\n",
      "\n",
      "_0 = complex(real=6.0, imag=5.0)\n",
      "\n",
      "{_1: _0, _0: _1}\n",
      "\n"
     ]
    }
   ],
   "source": [
    "c = complex(5, 6)\n",
    "d = complex(6, 5)\n",
    "print(otf.dumps({c: d, d: c}, format=otf.EXECUTABLE))"
   ]
  },
  {
   "cell_type": "markdown",
   "id": "d85795df",
   "metadata": {},
   "source": [
    "Even though this format yields runnable python stubs we do not load it by executing it:"
   ]
  },
  {
   "cell_type": "code",
   "execution_count": 8,
   "id": "e2203396",
   "metadata": {},
   "outputs": [
    {
     "data": {
      "text/plain": [
       "{(5+6j): (6+5j), (6+5j): (5+6j)}"
      ]
     },
     "execution_count": 9,
     "metadata": {},
     "output_type": "execute_result"
    }
   ],
   "source": [
    "otf.loads(\n",
    "    \"\"\"\n",
    "_1 = complex(real=5.0, imag=6.0)\n",
    "\n",
    "_0 = complex(real=6.0, imag=5.0)\n",
    "\n",
    "# This will cause an error when evaluated\n",
    "_2 = 1 / 0.\n",
    "\n",
    "{_1: _0, _0: _1}\n",
    "\n",
    "\"\"\"\n",
    ")"
   ]
  },
  {
   "cell_type": "markdown",
   "id": "89394ece",
   "metadata": {},
   "source": [
    "## Producers and reducer\n",
    "\n",
    "You can convert between any of our format without going through an intermediate representation. This has the advange that it lets you edit any syntatically valid value:"
   ]
  },
  {
   "cell_type": "code",
   "execution_count": 9,
   "id": "62cda1f5",
   "metadata": {},
   "outputs": [
    {
     "name": "stdout",
     "output_type": "stream",
     "text": [
      "# There were errors trying to import the following constructors\n",
      "#\n",
      "# + 'my_lib.file_descriptor': ImportError Failed to find object\n",
      "\n",
      "_0 = my_lib.file_descriptor(1)\n",
      "\n",
      "{'stdin': my_lib.file_descriptor(0), 'stdout': _0, 'stderr': _0}\n",
      "\n"
     ]
    }
   ],
   "source": [
    "problematic_value = \"{'stdin': my_lib.file_descriptor(0), 'stdout': my_lib.file_descriptor(1), 'stderr': ref(3)}\"\n",
    "\n",
    "print(\n",
    "    otf.pack.text.reduce(\n",
    "        problematic_value, acc=otf.pack.text.ExecutablePrinter()\n",
    "    )\n",
    ")"
   ]
  },
  {
   "cell_type": "markdown",
   "id": "548e15cb",
   "metadata": {},
   "source": [
    "Maybe you switch from my_lib to fd_lib and the format of the file descriptor has changed:"
   ]
  },
  {
   "cell_type": "code",
   "execution_count": 10,
   "id": "2f4b7996",
   "metadata": {},
   "outputs": [
    {
     "name": "stdout",
     "output_type": "stream",
     "text": [
      "{'stdin': fd_lib.fd(1, mode='w'), 'stdout': fd_lib.fd(1, mode='w'), 'stderr': ref(4)}\n"
     ]
    }
   ],
   "source": [
    "fixed_value = \"\"\"\n",
    "# Fixed by till to run with fd_lib\n",
    "\n",
    "STDIN = fd_lib.fd(1, mode='w')\n",
    "STDOUT = fd_lib.fd(1, mode='w')\n",
    "STDERR = STDOUT\n",
    "\n",
    "{'stdin': STDIN, 'stdout': STDOUT, 'stderr': STDERR}\n",
    "\"\"\"\n",
    "\n",
    "print(otf.pack.text.reduce(fixed_value, acc=otf.pack.text.CompactPrinter()))"
   ]
  },
  {
   "cell_type": "markdown",
   "id": "e5445e81",
   "metadata": {},
   "source": [
    "Note that the size of some of the nodes in the tree changed. Had you edited the \"CompactPrinter\" form of the document you would have had to adjust that number in the ref"
   ]
  }
 ],
 "metadata": {
  "kernelspec": {
   "display_name": "Python 3 (ipykernel)",
   "language": "python",
   "name": "python3"
  },
  "language_info": {
   "codemirror_mode": {
    "name": "ipython",
    "version": 3
   },
   "file_extension": ".py",
   "mimetype": "text/x-python",
   "name": "python",
   "nbconvert_exporter": "python",
   "pygments_lexer": "ipython3"
  }
 },
 "nbformat": 4,
 "nbformat_minor": 5
}
