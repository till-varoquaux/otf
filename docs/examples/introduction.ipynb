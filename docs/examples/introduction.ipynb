{
 "cells": [
  {
   "cell_type": "markdown",
   "id": "3c76fd62",
   "metadata": {},
   "source": [
    "# Quick introduction to OTF\n",
    "\n",
    "> On the fly distributed workflows in ipython\n",
    "\n",
    "\n",
    "I've been building infrastructure for quants and data-scientists since 2016. Over that time I observed that there's a big mismatch between how data-scientists work on a day to day basis and the interface provided by most workflow management systems. Typically data-scientist do *explorative programming* in notebooks, they rely on the data staying in memory and use the cells in the notebook as a form of checkpointing system (if you make a mistake you can edit the cell in which the mistake was made and re-run the code from there).\n",
    "\n",
    "The transition to big-data often involves throwing away the tools they are used to, dealing with errors that come from layers that are abstracted deep under the API they use (e.g.: serialisation problems). A lot of the pain comes from the fact that the systems they are transition too are designed to write complex distributed computing workload, not one off computations or glue code between existing algorithms.\n",
    "\n",
    "\n",
    "## What is *OTF*\n",
    "\n",
    "*OTF* is a framework to write glue code. It provides the building blocks to edit functions and launch computations directly from notebooks.\n",
    "\n",
    "### Under the hood\n",
    "\n",
    "*OTF* is a framework that does \"continuation-based\" workflow orchestration. Other workflow managment systems (*wms*) either:\n",
    "+ Use a **static computation graph**: create a graph of computations and then run that graph (aka: Define then run)\n",
    "+ Are **tied to a machine**: The *wms* relies on having a node stay up for the whole duration on the workflow.\n",
    "\n",
    "*OTF* is unique in that it is able to save snapshots of the orchestration code when it's waiting on computations. As a result the orchestration code can be resumed on any machine after the result of an awaited computation are awailable. As we'll see these snapshots also provide a great tool to debug runs, fix any issues we might have found with the code and resume our edited workflow from the middle."
   ]
  },
  {
   "cell_type": "code",
   "execution_count": 1,
   "id": "797adb5a",
   "metadata": {},
   "outputs": [],
   "source": [
    "import math\n",
    "import otf\n",
    "import pickle\n",
    "from otf import local_scheduler"
   ]
  },
  {
   "cell_type": "markdown",
   "id": "a5862879",
   "metadata": {},
   "source": [
    "All the functions we are defining live in an environment. They only have access to the values defined in that environement:"
   ]
  },
  {
   "cell_type": "code",
   "execution_count": 2,
   "id": "6ff429c8",
   "metadata": {},
   "outputs": [],
   "source": [
    "e = otf.Environment(\n",
    "    math=otf.NamedReference(math),\n",
    "    local_scheduler=otf.NamedReference(local_scheduler),\n",
    ")"
   ]
  },
  {
   "cell_type": "code",
   "execution_count": 3,
   "id": "571a3760",
   "metadata": {},
   "outputs": [],
   "source": [
    "@e.function\n",
    "def is_prime(n: int) -> float:\n",
    "    \"\"\"check whether a number is prime\n",
    "\n",
    "    Taken from https://docs.python.org/3/library/concurrent.futures.html#processpoolexecutor-example\n",
    "    \"\"\"\n",
    "    if n < 2:\n",
    "        return False\n",
    "    if n == 2:\n",
    "        return True\n",
    "    if n % 2 == 0:\n",
    "        return False\n",
    "    sqrt_n = int(math.floor(math.sqrt(n)))\n",
    "    for i in range(3, sqrt_n + 1, 2):\n",
    "        if n % i == 0:\n",
    "            return False\n",
    "    return True"
   ]
  },
  {
   "cell_type": "markdown",
   "id": "fe581611",
   "metadata": {},
   "source": [
    "`is_prime` is a function. It can be called:"
   ]
  },
  {
   "cell_type": "code",
   "execution_count": 4,
   "id": "f211d572",
   "metadata": {},
   "outputs": [
    {
     "data": {
      "text/plain": [
       "(True, False)"
      ]
     },
     "execution_count": 5,
     "metadata": {},
     "output_type": "execute_result"
    }
   ],
   "source": [
    "is_prime(5), is_prime(435345235)"
   ]
  },
  {
   "cell_type": "markdown",
   "id": "95720d99",
   "metadata": {},
   "source": [
    "But it can also be serialised in a format that is easy to introspect and is stable:"
   ]
  },
  {
   "cell_type": "code",
   "execution_count": 5,
   "id": "2704b62c",
   "metadata": {},
   "outputs": [
    {
     "name": "stdout",
     "output_type": "stream",
     "text": [
      "otf.Closure(\n",
      "    {\n",
      "        'environment': {\n",
      "            'math': otf.NamedReference('math'),\n",
      "            'local_scheduler': otf.NamedReference(\n",
      "                'otf.local_scheduler'\n",
      "            ),\n",
      "            'is_prime': otf.Function(\n",
      "                {\n",
      "                    'name': 'is_prime',\n",
      "                    'signature': ['n'],\n",
      "                    'body': (\n",
      "                        '    \"\"\"check whether a number is prime\\n'\n",
      "                        '\\n'\n",
      "                        '    Taken from https://docs.python.org/3/library/concurrent.futures.html#processpoolexecutor-example\\n'\n",
      "                        '    \"\"\"\\n'\n",
      "                        '    if n < 2:\\n'\n",
      "                        '        return False\\n'\n",
      "                        '    if n == 2:\\n'\n",
      "                        '        return True\\n'\n",
      "                        '    if n % 2 == 0:\\n'\n",
      "                        '        return False\\n'\n",
      "                        '    sqrt_n = int(math.floor(math.sqrt(n)))\\n'\n",
      "                        '    for i in range(3, sqrt_n + 1, 2):\\n'\n",
      "                        '        if n % i == 0:\\n'\n",
      "                        '            return False\\n'\n",
      "                        '    return True'\n",
      "                    )\n",
      "                }\n",
      "            )\n",
      "        },\n",
      "        'target': ref(10)\n",
      "    }\n",
      ")\n"
     ]
    }
   ],
   "source": [
    "print(otf.dumps(is_prime, indent=4))"
   ]
  },
  {
   "cell_type": "markdown",
   "id": "a22e8f2e",
   "metadata": {},
   "source": [
    "## Defining a workflow"
   ]
  },
  {
   "cell_type": "code",
   "execution_count": 6,
   "id": "7aeb3652",
   "metadata": {},
   "outputs": [],
   "source": [
    "@e.workflow\n",
    "async def get_primes(candidates: list[int]) -> list[int]:\n",
    "    primes = []\n",
    "    futures = [local_scheduler.defer(is_prime, x) for x in candidates]\n",
    "    while futures:\n",
    "        candidate = candidates.pop()\n",
    "        fut = futures.pop()\n",
    "        ok = await fut\n",
    "        if ok:\n",
    "            primes.append(candidate)\n",
    "    return primes"
   ]
  },
  {
   "cell_type": "code",
   "execution_count": 7,
   "id": "a6607531",
   "metadata": {},
   "outputs": [],
   "source": [
    "V = [\n",
    "    112272535095293,\n",
    "    112582705942171,\n",
    "    112272535095293,\n",
    "    115280095190773,\n",
    "    115797848077099,\n",
    "    1099726899285419,\n",
    "]"
   ]
  },
  {
   "cell_type": "code",
   "execution_count": 8,
   "id": "0a24c91f",
   "metadata": {},
   "outputs": [],
   "source": [
    "with local_scheduler.Scheduler() as schd:\n",
    "    trace = schd.run(get_primes, V)"
   ]
  },
  {
   "cell_type": "code",
   "execution_count": 9,
   "id": "b95f2c18",
   "metadata": {},
   "outputs": [
    {
     "name": "stdout",
     "output_type": "stream",
     "text": [
      "otf.Suspension(\n",
      "    {\n",
      "        'environment': otf.Environment(\n",
      "            {\n",
      "                'math': otf.NamedReference('math'),\n",
      "                'local_scheduler': otf.NamedReference(\n",
      "                    'otf.local_scheduler'\n",
      "                ),\n",
      "                'is_prime': otf.Function(\n",
      "                    {\n",
      "                        'name': 'is_prime',\n",
      "                        'signature': ['n'],\n",
      "                        'body': (\n",
      "                            '    \"\"\"check whether a number is prime\\n'\n",
      "                            '\\n'\n",
      "                            '    Taken from https://docs.python.org/3/library/concurrent.futures.html#processpoolexecutor-example\\n'\n",
      "                            '    \"\"\"\\n'\n",
      "                            '    if n < 2:\\n'\n",
      "                            '        return False\\n'\n",
      "                            '    if n == 2:\\n'\n",
      "                            '        return True\\n'\n",
      "                            '    if n % 2 == 0:\\n'\n",
      "                            '        return False\\n'\n",
      "                            '    sqrt_n = int(math.floor(math.sqrt(n)))\\n'\n",
      "                            '    for i in range(3, sqrt_n + 1, 2):\\n'\n",
      "                            '        if n % i == 0:\\n'\n",
      "                            '            return False\\n'\n",
      "                            '    return True'\n",
      "                        )\n",
      "                    }\n",
      "                )\n",
      "            }\n",
      "        ),\n",
      "        'variables': {\n",
      "            'candidate': 112_272_535_095_293,\n",
      "            'candidates': [],\n",
      "            'fut': otf.local_scheduler.Future(\n",
      "                '62e6e282-e5c1-457c-b8c3-a967b36711eb:0'\n",
      "            ),\n",
      "            'futures': [],\n",
      "            'ok': 1,\n",
      "            'primes': [\n",
      "                115_797_848_077_099,\n",
      "                115_280_095_190_773,\n",
      "                112_272_535_095_293,\n",
      "                112_582_705_942_171\n",
      "            ]\n",
      "        },\n",
      "        'awaiting': ref(13),\n",
      "        'code': (\n",
      "            '    primes = []\\n'\n",
      "            '    futures = [local_scheduler.defer(is_prime, x) for x in candidates]\\n'\n",
      "            '    while futures:\\n'\n",
      "            '        candidate = candidates.pop()\\n'\n",
      "            '        fut = futures.pop()\\n'\n",
      "            '        ok = await fut\\n'\n",
      "            '        if ok:\\n'\n",
      "            '            primes.append(candidate)\\n'\n",
      "            '    return primes'\n",
      "        ),\n",
      "        'position': 1\n",
      "    }\n",
      ")\n"
     ]
    }
   ],
   "source": [
    "print(otf.dumps(trace.parent.suspension, indent=4))"
   ]
  },
  {
   "cell_type": "code",
   "execution_count": 10,
   "id": "3b878f1a",
   "metadata": {},
   "outputs": [
    {
     "data": {
      "text/plain": [
       "[115797848077099,\n",
       " 115280095190773,\n",
       " 112272535095293,\n",
       " 112582705942171,\n",
       " 112272535095293]"
      ]
     },
     "execution_count": 11,
     "metadata": {},
     "output_type": "execute_result"
    }
   ],
   "source": [
    "trace.value"
   ]
  }
 ],
 "metadata": {
  "kernelspec": {
   "display_name": "Python 3 (ipykernel)",
   "language": "python",
   "name": "python3"
  },
  "language_info": {
   "codemirror_mode": {
    "name": "ipython",
    "version": 3
   },
   "file_extension": ".py",
   "mimetype": "text/x-python",
   "name": "python",
   "nbconvert_exporter": "python",
   "pygments_lexer": "ipython3"
  }
 },
 "nbformat": 4,
 "nbformat_minor": 5
}
